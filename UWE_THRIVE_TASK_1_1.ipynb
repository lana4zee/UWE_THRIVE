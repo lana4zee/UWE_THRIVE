{
  "nbformat": 4,
  "nbformat_minor": 0,
  "metadata": {
    "colab": {
      "name": "Untitled0.ipynb",
      "provenance": []
    },
    "kernelspec": {
      "name": "python3",
      "display_name": "Python 3"
    },
    "language_info": {
      "name": "python"
    }
  },
  "cells": [
    {
      "cell_type": "markdown",
      "source": [
        "# **Complete the tasks below in Google Colab and answer the questions that follow.**\n",
        "\n",
        "#### Write a python code that takes string input, containing only integers and semi-colons, and converts it to a list of integers. For reference, see the example input and output.\n",
        "#### Print these numbers as an array of numbers."
      ],
      "metadata": {
        "id": "XE_mf1LtBZFi"
      }
    },
    {
      "cell_type": "code",
      "source": [
        "# let\n",
        "str = \"3; 4; 5; 8; 9\"\n",
        "# [3, 4, 5, 8, 9]\n",
        "\n",
        "# print(len(input))\n",
        "output = []\n",
        "\n",
        "for i in str:\n",
        " if(i.isdigit()):\n",
        "   print(\"This is an integer \" + i)\n",
        "   output.append(int(i)) \n",
        " else :\n",
        "    print(\"Not accepted\")\n",
        "\n",
        "print (\"Answer Is: \", output)\n",
        "\n"
      ],
      "metadata": {
        "colab": {
          "base_uri": "https://localhost:8080/"
        },
        "id": "8IozKKSeBlv1",
        "outputId": "bdc30abf-1356-4b8c-881a-8223596ed5b7"
      },
      "execution_count": null,
      "outputs": [
        {
          "output_type": "stream",
          "name": "stdout",
          "text": [
            "This is an integer 3\n",
            "Not accepted\n",
            "Not accepted\n",
            "This is an integer 4\n",
            "Not accepted\n",
            "Not accepted\n",
            "This is an integer 5\n",
            "Not accepted\n",
            "Not accepted\n",
            "This is an integer 8\n",
            "Not accepted\n",
            "Not accepted\n",
            "This is an integer 9\n",
            "Answer Is:  [3, 4, 5, 8, 9]\n"
          ]
        }
      ]
    },
    {
      "cell_type": "code",
      "source": [
        ""
      ],
      "metadata": {
        "id": "uI0g9dIiIdqt"
      },
      "execution_count": null,
      "outputs": []
    }
  ]
}