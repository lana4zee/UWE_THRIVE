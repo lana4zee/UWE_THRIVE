{
  "nbformat": 4,
  "nbformat_minor": 0,
  "metadata": {
    "colab": {
      "name": "Untitled1.ipynb",
      "provenance": [],
      "collapsed_sections": [],
      "authorship_tag": "ABX9TyPXdEz+QwZGH20PRsIoWmEP",
      "include_colab_link": true
    },
    "kernelspec": {
      "name": "python3",
      "display_name": "Python 3"
    },
    "language_info": {
      "name": "python"
    }
  },
  "cells": [
    {
      "cell_type": "markdown",
      "metadata": {
        "id": "view-in-github",
        "colab_type": "text"
      },
      "source": [
        "<a href=\"https://colab.research.google.com/github/lana4zee/UWE_THRIVE/blob/main/Untitled1.ipynb\" target=\"_parent\"><img src=\"https://colab.research.google.com/assets/colab-badge.svg\" alt=\"Open In Colab\"/></a>"
      ]
    },
    {
      "cell_type": "markdown",
      "source": [
        "**QUESTION 1**\n",
        "\n",
        "Complete the task below in Google Colab and answer the question that follows.\n",
        "\n",
        "\n",
        "Write a python code to test if a given string is a palindrome (a palindrome is a word, sentence, verse, or number that reads the same backwards or forwards). See the examples below.."
      ],
      "metadata": {
        "id": "qhEqeX8GYI3X"
      }
    },
    {
      "cell_type": "code",
      "execution_count": 12,
      "metadata": {
        "colab": {
          "base_uri": "https://localhost:8080/",
          "height": 53
        },
        "id": "BcuAKKjkL0Aw",
        "outputId": "0ef3a39f-4927-4346-bbbf-ee14e9313a7b"
      },
      "outputs": [
        {
          "output_type": "stream",
          "name": "stdout",
          "text": [
            "mom\n"
          ]
        },
        {
          "output_type": "execute_result",
          "data": {
            "application/vnd.google.colaboratory.intrinsic+json": {
              "type": "string"
            },
            "text/plain": [
              "'It is a palindrome'"
            ]
          },
          "metadata": {},
          "execution_count": 12
        }
      ],
      "source": [
        "def palindrome(str):\n",
        "  print(str[::-1])\n",
        "  if(str[::-1] == str):\n",
        "    return \"It is a palindrome\"\n",
        "  else:\n",
        "    return \"Not a Plaindrome\"\n",
        "\n",
        "palindrome('mom')\n"
      ]
    }
  ]
}